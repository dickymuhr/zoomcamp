{
 "cells": [
  {
   "cell_type": "markdown",
   "id": "0a83c632",
   "metadata": {},
   "source": [
    "# Start Session & Connect GCS"
   ]
  },
  {
   "cell_type": "code",
   "execution_count": 1,
   "id": "db44759c",
   "metadata": {},
   "outputs": [
    {
     "name": "stdout",
     "output_type": "stream",
     "text": [
      "credential  download_data.sh  notebooks   spark_gcs.ipynb  taxi_schema.ipynb\r\n",
      "data\t    lib\t\t      rdds.ipynb  spark_sql.ipynb\r\n"
     ]
    }
   ],
   "source": [
    "!ls"
   ]
  },
  {
   "cell_type": "code",
   "execution_count": 2,
   "id": "9ed0ddc1",
   "metadata": {},
   "outputs": [],
   "source": [
    "import pyspark\n",
    "from pyspark.sql import SparkSession\n",
    "from pyspark.conf import SparkConf\n",
    "from pyspark.context import SparkContext"
   ]
  },
  {
   "cell_type": "code",
   "execution_count": 3,
   "id": "d31880b0",
   "metadata": {},
   "outputs": [],
   "source": [
    "# Configuration\n",
    "\n",
    "credentials_location = '/home/diccode/zoomcamp/credential/axial-coyote-376114-4c1af9c983eb.json'\n",
    "\n",
    "conf = SparkConf() \\\n",
    "    .setMaster('local[*]') \\\n",
    "    .setAppName('test') \\\n",
    "    .set(\"spark.jars\", \"./lib/gcs-connector-hadoop3-2.2.5.jar\") \\\n",
    "    .set(\"spark.hadoop.google.cloud.auth.service.account.enable\", \"true\") \\\n",
    "    .set(\"spark.hadoop.google.cloud.auth.service.account.json.keyfile\", credentials_location)"
   ]
  },
  {
   "cell_type": "code",
   "execution_count": 4,
   "id": "11e55143",
   "metadata": {},
   "outputs": [
    {
     "name": "stdout",
     "output_type": "stream",
     "text": [
      "23/03/25 11:31:05 WARN Utils: Your hostname, MSI resolves to a loopback address: 127.0.1.1; using 172.21.134.10 instead (on interface eth0)\n",
      "23/03/25 11:31:05 WARN Utils: Set SPARK_LOCAL_IP if you need to bind to another address\n",
      "23/03/25 11:31:06 WARN NativeCodeLoader: Unable to load native-hadoop library for your platform... using builtin-java classes where applicable\n"
     ]
    },
    {
     "name": "stderr",
     "output_type": "stream",
     "text": [
      "Setting default log level to \"WARN\".\n",
      "To adjust logging level use sc.setLogLevel(newLevel). For SparkR, use setLogLevel(newLevel).\n"
     ]
    }
   ],
   "source": [
    "#Context\n",
    "\n",
    "sc = SparkContext(conf=conf)\n",
    "\n",
    "hadoop_conf = sc._jsc.hadoopConfiguration()\n",
    "\n",
    "hadoop_conf.set(\"fs.AbstractFileSystem.gs.impl\",  \"com.google.cloud.hadoop.fs.gcs.GoogleHadoopFS\")\n",
    "hadoop_conf.set(\"fs.gs.impl\", \"com.google.cloud.hadoop.fs.gcs.GoogleHadoopFileSystem\")\n",
    "hadoop_conf.set(\"fs.gs.auth.service.account.json.keyfile\", credentials_location)\n",
    "hadoop_conf.set(\"fs.gs.auth.service.account.enable\", \"true\")"
   ]
  },
  {
   "cell_type": "code",
   "execution_count": 5,
   "id": "3b0545b1",
   "metadata": {},
   "outputs": [],
   "source": [
    "# Builder\n",
    "\n",
    "spark = SparkSession.builder \\\n",
    "    .config(conf=sc.getConf()) \\\n",
    "    .getOrCreate()"
   ]
  },
  {
   "cell_type": "code",
   "execution_count": 6,
   "id": "5a031e60",
   "metadata": {},
   "outputs": [
    {
     "name": "stderr",
     "output_type": "stream",
     "text": [
      "                                                                                \r"
     ]
    }
   ],
   "source": [
    "path = 'gs://de_zoomcamp_prefect/data/green/*'\n",
    "df_green = spark.read.parquet(path)"
   ]
  },
  {
   "cell_type": "code",
   "execution_count": 21,
   "id": "52050470",
   "metadata": {},
   "outputs": [
    {
     "name": "stderr",
     "output_type": "stream",
     "text": [
      "\r",
      "[Stage 11:>                                                         (0 + 1) / 1]\r"
     ]
    },
    {
     "name": "stdout",
     "output_type": "stream",
     "text": [
      "+--------+-------------------+-------------------+------------------+----------+------------+------------+---------------+-------------+-----------+-----+-------+----------+------------+---------+---------------------+------------+------------+---------+--------------------+\n",
      "|VendorID|    pickup_datetime|   dropoff_datetime|store_and_fwd_flag|RatecodeID|PULocationID|DOLocationID|passenger_count|trip_distance|fare_amount|extra|mta_tax|tip_amount|tolls_amount|ehail_fee|improvement_surcharge|total_amount|payment_type|trip_type|congestion_surcharge|\n",
      "+--------+-------------------+-------------------+------------------+----------+------------+------------+---------------+-------------+-----------+-----+-------+----------+------------+---------+---------------------+------------+------------+---------+--------------------+\n",
      "|       2|2018-12-21 15:17:29|2018-12-21 15:18:57|                 N|         1|         264|         264|              5|          0.0|        3.0|  0.5|    0.5|       0.0|         0.0|     null|                  0.3|         4.3|           2|        1|                null|\n",
      "|       2|2019-01-01 00:10:16|2019-01-01 00:16:32|                 N|         1|          97|          49|              2|         0.86|        6.0|  0.5|    0.5|       0.0|         0.0|     null|                  0.3|         7.3|           2|        1|                null|\n",
      "|       2|2019-01-01 00:27:11|2019-01-01 00:31:38|                 N|         1|          49|         189|              2|         0.66|        4.5|  0.5|    0.5|       0.0|         0.0|     null|                  0.3|         5.8|           1|        1|                null|\n",
      "|       2|2019-01-01 00:46:20|2019-01-01 01:04:54|                 N|         1|         189|          17|              2|         2.68|       13.5|  0.5|    0.5|      2.96|         0.0|     null|                  0.3|       19.71|           1|        1|                null|\n",
      "|       2|2019-01-01 00:19:06|2019-01-01 00:39:43|                 N|         1|          82|         258|              1|         4.53|       18.0|  0.5|    0.5|       0.0|         0.0|     null|                  0.3|        19.3|           2|        1|                null|\n",
      "|       2|2019-01-01 00:12:35|2019-01-01 00:19:09|                 N|         1|          49|          17|              1|         1.05|        6.5|  0.5|    0.5|       0.0|         0.0|     null|                  0.3|         7.8|           1|        1|                null|\n",
      "|       2|2019-01-01 00:47:55|2019-01-01 01:00:01|                 N|         1|         255|          33|              1|         3.77|       13.5|  0.5|    0.5|       0.0|         0.0|     null|                  0.3|        14.8|           1|        1|                null|\n",
      "|       1|2019-01-01 00:12:47|2019-01-01 00:30:50|                 N|         1|          76|         225|              1|          4.1|       16.0|  0.5|    0.5|       0.0|         0.0|     null|                  0.3|        17.3|           1|        1|                null|\n",
      "|       2|2019-01-01 00:16:23|2019-01-01 00:39:46|                 N|         1|          25|          89|              1|         7.75|       25.5|  0.5|    0.5|       0.0|         0.0|     null|                  0.3|        26.8|           1|        1|                null|\n",
      "|       2|2019-01-01 00:58:02|2019-01-01 01:19:02|                 N|         1|          85|          39|              1|         3.68|       15.5|  0.5|    0.5|       0.0|         0.0|     null|                  0.3|        16.8|           1|        1|                null|\n",
      "|       2|2019-01-01 00:37:00|2019-01-01 00:56:42|                 N|         1|         223|         238|              1|         6.84|       22.0|  0.5|    0.5|       8.0|        5.76|     null|                  0.3|       37.06|           1|        1|                null|\n",
      "|       2|2019-01-01 00:13:48|2019-01-01 00:21:00|                 N|         1|         129|         129|              2|         1.15|        6.5|  0.5|    0.5|      1.56|         0.0|     null|                  0.3|        9.36|           1|        1|                null|\n",
      "|       2|2019-01-01 00:19:59|2019-01-01 00:45:50|                 N|         1|          71|          71|              1|         0.49|       15.5|  0.5|    0.5|       0.0|         0.0|     null|                  0.3|        16.8|           1|        1|                null|\n",
      "|       2|2019-01-01 00:57:57|2019-01-01 01:20:10|                 N|         1|          85|         177|              1|         3.61|       17.0|  0.5|    0.5|       0.0|         0.0|     null|                  0.3|        18.3|           1|        1|                null|\n",
      "|       1|2019-01-01 00:09:02|2019-01-01 00:17:50|                 N|         1|         256|          80|              1|          1.2|        7.5|  0.5|    0.5|       5.2|         0.0|     null|                  0.3|        14.0|           1|        1|                null|\n",
      "|       1|2019-01-01 00:22:12|2019-01-01 00:25:29|                 N|         1|          80|          80|              1|          0.5|        4.0|  0.5|    0.5|       0.0|         0.0|     null|                  0.3|         5.3|           2|        1|                null|\n",
      "|       1|2019-01-01 00:31:55|2019-01-01 00:52:59|                 N|         1|         256|         229|              1|          5.5|       19.5|  0.5|    0.5|      4.15|         0.0|     null|                  0.3|       24.95|           1|        1|                null|\n",
      "|       2|2019-01-01 00:30:20|2019-01-01 00:54:19|                 N|         1|         255|         231|              1|         5.01|       20.0|  0.5|    0.5|      4.26|         0.0|     null|                  0.3|       25.56|           1|        1|                null|\n",
      "|       2|2018-12-31 23:58:06|2019-01-01 00:00:57|                 N|         1|         146|           7|              1|         0.43|        4.0|  0.5|    0.5|      1.06|         0.0|     null|                  0.3|        6.36|           1|        1|                null|\n",
      "|       2|2019-01-01 00:40:17|2019-01-01 00:50:23|                 N|         1|         146|         129|              1|         2.72|       10.5|  0.5|    0.5|      2.36|         0.0|     null|                  0.3|       14.16|           1|        1|                null|\n",
      "+--------+-------------------+-------------------+------------------+----------+------------+------------+---------------+-------------+-----------+-----+-------+----------+------------+---------+---------------------+------------+------------+---------+--------------------+\n",
      "only showing top 20 rows\n",
      "\n"
     ]
    },
    {
     "name": "stderr",
     "output_type": "stream",
     "text": [
      "\r",
      "                                                                                \r"
     ]
    }
   ],
   "source": [
    "df_green.show()"
   ]
  },
  {
   "cell_type": "code",
   "execution_count": 22,
   "id": "40dbbd4b",
   "metadata": {},
   "outputs": [
    {
     "name": "stderr",
     "output_type": "stream",
     "text": [
      "                                                                                \r"
     ]
    },
    {
     "data": {
      "text/plain": [
       "7778101"
      ]
     },
     "execution_count": 22,
     "metadata": {},
     "output_type": "execute_result"
    }
   ],
   "source": [
    "df_green.count()"
   ]
  },
  {
   "cell_type": "code",
   "execution_count": null,
   "id": "54d5f606",
   "metadata": {},
   "outputs": [],
   "source": []
  }
 ],
 "metadata": {
  "kernelspec": {
   "display_name": "Python 3 (ipykernel)",
   "language": "python",
   "name": "python3"
  },
  "language_info": {
   "codemirror_mode": {
    "name": "ipython",
    "version": 3
   },
   "file_extension": ".py",
   "mimetype": "text/x-python",
   "name": "python",
   "nbconvert_exporter": "python",
   "pygments_lexer": "ipython3",
   "version": "3.10.9"
  }
 },
 "nbformat": 4,
 "nbformat_minor": 5
}
